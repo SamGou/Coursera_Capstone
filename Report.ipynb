{
    "cells": [
        {
            "cell_type": "markdown",
            "metadata": {
                "collapsed": true
            },
            "source": "# Report"
        },
        {
            "cell_type": "markdown",
            "metadata": {},
            "source": "### Introduction\\ Business Problem"
        },
        {
            "cell_type": "markdown",
            "metadata": {},
            "source": "Hundreds, if not thousands of car accidents happen daily and they have a huge impact on both the people involved in the crash and the responding parties. On one hand, depending on the severity, the accidents result in physical and emotional trauma for the drivers and their passengers. On the other, there are substantial financial costs associated with a car accident. This is why, finding a way to accurately predict the severity of car accidents based on number of factors, such as weather,road and light conditions as well as others is important. \nFinding a solution to this issue is hugely beneficial to everyone involved - the drivers and passengers, police officers, medics and medical staff, road clean up crews, etc. For example, drivers' health and safety is improved. They save money on the possible hospital bills as well as car repairs. The police department has more work force and funds to distribute elsewhere. The medical staff will similarly have more resources to use in other areas. Overall, predicting the severity of the car accidents will have immediate effects on people's safety as well as all the departments involved."
        },
        {
            "cell_type": "markdown",
            "metadata": {},
            "source": "### Data"
        },
        {
            "cell_type": "markdown",
            "metadata": {},
            "source": "The data that will be used to train the model in this project is the Seattle city Collisions from 2004 to Present date. It is provided by  SPD and recorded by Traffic Records. The data consists of 194673 recorded collisions with a labelled severity of either 1 or 2 which represent property damage and injury respectively. This is the target value that the model will be  trained to predict. Since we are trying to create a generally applicable model, the key features of this dataset are the weather, road and light conditions. Other features, such as the address type as well as the junction type can be used to further help with developing preventative strategies, e.g. installing street lights or putting up speed bumps and signs."
        },
        {
            "cell_type": "code",
            "execution_count": null,
            "metadata": {},
            "outputs": [],
            "source": ""
        }
    ],
    "metadata": {
        "kernelspec": {
            "display_name": "Python 3.6",
            "language": "python",
            "name": "python3"
        },
        "language_info": {
            "codemirror_mode": {
                "name": "ipython",
                "version": 3
            },
            "file_extension": ".py",
            "mimetype": "text/x-python",
            "name": "python",
            "nbconvert_exporter": "python",
            "pygments_lexer": "ipython3",
            "version": "3.6.9"
        }
    },
    "nbformat": 4,
    "nbformat_minor": 1
}